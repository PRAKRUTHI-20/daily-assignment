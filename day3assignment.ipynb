{
  "nbformat": 4,
  "nbformat_minor": 0,
  "metadata": {
    "colab": {
      "provenance": [],
      "authorship_tag": "ABX9TyNDpqt0DNfd7gXVSEZTkY3L",
      "include_colab_link": true
    },
    "kernelspec": {
      "name": "python3",
      "display_name": "Python 3"
    },
    "language_info": {
      "name": "python"
    }
  },
  "cells": [
    {
      "cell_type": "markdown",
      "metadata": {
        "id": "view-in-github",
        "colab_type": "text"
      },
      "source": [
        "<a href=\"https://colab.research.google.com/github/PRAKRUTHI-20/daily-assignment/blob/main/day3assignment.ipynb\" target=\"_parent\"><img src=\"https://colab.research.google.com/assets/colab-badge.svg\" alt=\"Open In Colab\"/></a>"
      ]
    },
    {
      "cell_type": "code",
      "execution_count": 1,
      "metadata": {
        "colab": {
          "base_uri": "https://localhost:8080/"
        },
        "id": "uwQRwVyZ5u5m",
        "outputId": "6eb664a7-c6e4-46b5-a5aa-a023cac5baa0"
      },
      "outputs": [
        {
          "output_type": "stream",
          "name": "stdout",
          "text": [
            "Probability of Heads: 0.7\n",
            "Probability of Tails: 0.3\n"
          ]
        }
      ],
      "source": [
        "heads = 70\n",
        "tails = 30\n",
        "total = heads + tails\n",
        "\n",
        "# Probability calculations\n",
        "p_heads = heads / total\n",
        "p_tails = tails / total\n",
        "\n",
        "print(f\"Probability of Heads: {p_heads}\")\n",
        "print(f\"Probability of Tails: {p_tails}\")"
      ]
    },
    {
      "cell_type": "code",
      "source": [
        "P_disease = 0.03                 # 3% of people have the disease\n",
        "P_positive_given_disease = 0.97  # 97% chance test is positive if diseased\n",
        "P_positive_given_no_disease = 0.05  # 5% false positive rate\n",
        "\n",
        "# Total probability of testing positive:\n",
        "P_no_disease = 1 - P_disease\n",
        "P_positive = (P_positive_given_disease * P_disease) + (P_positive_given_no_disease * P_no_disease)\n",
        "\n",
        "# Bayes' Theorem\n",
        "P_disease_given_positive = (P_positive_given_disease * P_disease) / P_positive\n",
        "\n",
        "print(f\"Probability of having disease given a positive test: {P_disease_given_positive:.4f}\")\n",
        "\n",
        ""
      ],
      "metadata": {
        "colab": {
          "base_uri": "https://localhost:8080/"
        },
        "id": "Wwh09TUb6Cgc",
        "outputId": "aa39b0d1-de5b-41e0-dacf-0104c5f6d768"
      },
      "execution_count": 2,
      "outputs": [
        {
          "output_type": "stream",
          "name": "stdout",
          "text": [
            "Probability of having disease given a positive test: 0.3750\n"
          ]
        }
      ]
    },
    {
      "cell_type": "code",
      "source": [
        "def f(x):\n",
        "    return 4*x**3 + 3*x - 6\n",
        "\n",
        "# Derivative of f(x): f'(x) = 12*x**2 - 3\n",
        "def f_prime(x):\n",
        "    return 12*x**2 - 3\n",
        "\n",
        "# Evaluate derivative at a point\n",
        "x_val = 2\n",
        "print(f\"Derivative at x = {x_val}: {f_prime(x_val)}\")\n",
        ""
      ],
      "metadata": {
        "colab": {
          "base_uri": "https://localhost:8080/"
        },
        "id": "pBKb0_cx6C5s",
        "outputId": "76cb040a-0191-433b-edfa-d282dee62b67"
      },
      "execution_count": 3,
      "outputs": [
        {
          "output_type": "stream",
          "name": "stdout",
          "text": [
            "Derivative at x = 2: 45\n"
          ]
        }
      ]
    },
    {
      "cell_type": "code",
      "source": [
        "learning_rate = 0.3\n",
        "x = 2  # starting point\n",
        "\n",
        "# Perform one step of gradient descent\n",
        "gradient = f_prime(x)\n",
        "x_new = x - learning_rate * gradient\n",
        "\n",
        "print(f\"New x after one gradient descent step: {x_new}\")"
      ],
      "metadata": {
        "colab": {
          "base_uri": "https://localhost:8080/"
        },
        "id": "-C27Vmip6Nes",
        "outputId": "012a20c8-d21a-4400-8571-0903cee426b5"
      },
      "execution_count": 4,
      "outputs": [
        {
          "output_type": "stream",
          "name": "stdout",
          "text": [
            "New x after one gradient descent step: -11.5\n"
          ]
        }
      ]
    }
  ]
}